{
 "cells": [
  {
   "cell_type": "markdown",
   "id": "8401c707",
   "metadata": {},
   "source": [
    "First, we recieve the names and scores and store them in a nested list. "
   ]
  },
  {
   "cell_type": "code",
   "execution_count": 2,
   "id": "c18d3a85",
   "metadata": {},
   "outputs": [
    {
     "name": "stdout",
     "output_type": "stream",
     "text": [
      "N= 5\n",
      "name= a\n",
      "score= 19\n",
      "name= b\n",
      "score= 18\n",
      "name= c\n",
      "score= 14\n",
      "name= d\n",
      "score= 14\n",
      "name= e\n",
      "score= 13\n",
      "[['a', 19.0], ['b', 18.0], ['c', 14.0], ['d', 14.0], ['e', 13.0]]\n"
     ]
    }
   ],
   "source": [
    "records = []\n",
    "for student in range(int(input('N= '))):\n",
    "    name = input('name= ')\n",
    "    score = float(input('score= '))\n",
    "    records.append([name, score])\n",
    "print(records)"
   ]
  },
  {
   "cell_type": "markdown",
   "id": "d7452fc8",
   "metadata": {},
   "source": [
    "Then we sort the resulted list using a lambda function. First we sort them by the scores in an ascending order and then by name alphabetically."
   ]
  },
  {
   "cell_type": "code",
   "execution_count": 3,
   "id": "406ad6f5",
   "metadata": {},
   "outputs": [
    {
     "name": "stdout",
     "output_type": "stream",
     "text": [
      "[['e', 13.0], ['c', 14.0], ['d', 14.0], ['b', 18.0], ['a', 19.0]]\n"
     ]
    }
   ],
   "source": [
    "records.sort(key= lambda item: (item[1], item[0]))\n",
    "print(records)"
   ]
  },
  {
   "cell_type": "code",
   "execution_count": 5,
   "id": "f600d3b9",
   "metadata": {},
   "outputs": [
    {
     "name": "stdout",
     "output_type": "stream",
     "text": [
      "c\n",
      "d\n"
     ]
    }
   ],
   "source": [
    "lowest = second_lowest = records[0][1]\n",
    "\n",
    "value_update = 0\n",
    "i = 0\n",
    "size = len(records)\n",
    "\n",
    "while i < size:\n",
    "    if records[i][1] > second_lowest:\n",
    "        second_lowest = records[i][1]\n",
    "        value_update += 1\n",
    "    if value_update == 1:\n",
    "        print(records[i][0])\n",
    "    if lowest != second_lowest and value_update > 1:\n",
    "        break\n",
    "    i += 1\n"
   ]
  },
  {
   "cell_type": "code",
   "execution_count": null,
   "id": "4d6a62dd",
   "metadata": {},
   "outputs": [],
   "source": []
  }
 ],
 "metadata": {
  "kernelspec": {
   "display_name": "Python 3 (ipykernel)",
   "language": "python",
   "name": "python3"
  },
  "language_info": {
   "codemirror_mode": {
    "name": "ipython",
    "version": 3
   },
   "file_extension": ".py",
   "mimetype": "text/x-python",
   "name": "python",
   "nbconvert_exporter": "python",
   "pygments_lexer": "ipython3",
   "version": "3.9.13"
  }
 },
 "nbformat": 4,
 "nbformat_minor": 5
}
