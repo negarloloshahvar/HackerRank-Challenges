{
 "cells": [
  {
   "cell_type": "markdown",
   "id": "c0d59c34",
   "metadata": {},
   "source": [
    "```split()``` + ```*``` splits a string by white-spaces (or newlines and some other stuff), assigns name to the first word, then assigns line to the rest of the words."
   ]
  },
  {
   "cell_type": "code",
   "execution_count": 1,
   "id": "43cbae77",
   "metadata": {},
   "outputs": [
    {
     "data": {
      "text/plain": [
       "['abtin', 'narges']"
      ]
     },
     "execution_count": 1,
     "metadata": {},
     "output_type": "execute_result"
    }
   ],
   "source": [
    "mystring = 'negar abtin narges'\n",
    "name, *line = mystring.split()\n",
    "line"
   ]
  },
  {
   "cell_type": "code",
   "execution_count": 3,
   "id": "bbd1b3f7",
   "metadata": {},
   "outputs": [
    {
     "data": {
      "text/plain": [
       "['abtin', 'narges']"
      ]
     },
     "execution_count": 3,
     "metadata": {},
     "output_type": "execute_result"
    }
   ],
   "source": [
    "mystring = 'negar abtin narges maral'\n",
    "name1, *line, last_name = mystring.split()\n",
    "line"
   ]
  },
  {
   "cell_type": "code",
   "execution_count": 18,
   "id": "c2bf8036",
   "metadata": {},
   "outputs": [
    {
     "name": "stdout",
     "output_type": "stream",
     "text": [
      "n= 3\n",
      "a 15 17 19\n",
      "b 15 16 20\n",
      "c 16 18 20\n",
      "c\n"
     ]
    },
    {
     "data": {
      "text/plain": [
       "18.0"
      ]
     },
     "execution_count": 18,
     "metadata": {},
     "output_type": "execute_result"
    }
   ],
   "source": [
    "students = {}\n",
    "n = int(input('n= '))\n",
    "\n",
    "for i in range(n):\n",
    "    name, *entry = input().split()\n",
    "    scores = list(map(float, entry))\n",
    "    students[name] = scores\n",
    "selected_name = input()\n",
    "\n",
    "selected_name\n",
    "\n",
    "sum = 0\n",
    "for score in students[selected_name]:\n",
    "        sum += score\n",
    "\n",
    "average = sum / len(students[selected_name])\n",
    "\n",
    "print(format(average, '.2f'))"
   ]
  },
  {
   "cell_type": "code",
   "execution_count": 12,
   "id": "0101d8b2",
   "metadata": {},
   "outputs": [
    {
     "data": {
      "text/plain": [
       "19.0"
      ]
     },
     "execution_count": 12,
     "metadata": {},
     "output_type": "execute_result"
    }
   ],
   "source": [
    "mydic = {'negar': [18, 19, 20], 'abtin': [18, 17, 15]}\n",
    "mydic['negar']\n",
    "\n",
    "sum = 0\n",
    "for score in mydic['negar']:\n",
    "    sum += score\n",
    "\n",
    "average = sum / len(mydic['negar'])\n",
    "average\n"
   ]
  }
 ],
 "metadata": {
  "kernelspec": {
   "display_name": "Python 3 (ipykernel)",
   "language": "python",
   "name": "python3"
  },
  "language_info": {
   "codemirror_mode": {
    "name": "ipython",
    "version": 3
   },
   "file_extension": ".py",
   "mimetype": "text/x-python",
   "name": "python",
   "nbconvert_exporter": "python",
   "pygments_lexer": "ipython3",
   "version": "3.9.13"
  }
 },
 "nbformat": 4,
 "nbformat_minor": 5
}
