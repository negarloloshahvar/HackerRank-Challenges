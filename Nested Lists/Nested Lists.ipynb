{
 "cells": [
  {
   "cell_type": "markdown",
   "id": "ef4c28d7",
   "metadata": {},
   "source": [
    "First, we recieve the names and scores and store them in a nested list. "
   ]
  },
  {
   "cell_type": "code",
   "execution_count": 2,
   "id": "0470404e",
   "metadata": {},
   "outputs": [
    {
     "name": "stdout",
     "output_type": "stream",
     "text": [
      "3\n",
      "negar\n",
      "18.5\n",
      "abtin\n",
      "17\n",
      "narges\n",
      "19\n",
      "[['negar', 18.5], ['abtin', 17.0], ['narges', 19.0]]\n"
     ]
    }
   ],
   "source": [
    "records = []\n",
    "for student in range(int(input())):\n",
    "    name = input()\n",
    "    score = float(input())\n",
    "    records.append([name, score])\n",
    "print(records)"
   ]
  },
  {
   "cell_type": "markdown",
   "id": "562e37b5",
   "metadata": {},
   "source": [
    "Then we sort the resulted list using a lambda function. First we sort them by the scores in an ascending order and then by name alphabetically."
   ]
  },
  {
   "cell_type": "code",
   "execution_count": 4,
   "id": "d6b5e294",
   "metadata": {},
   "outputs": [
    {
     "name": "stdout",
     "output_type": "stream",
     "text": [
      "[['abtin', 17.0], ['negar', 18.5], ['narges', 19.0]]\n"
     ]
    }
   ],
   "source": [
    "records.sort(key= lambda item: (item[1], item[0]))\n",
    "print(records)"
   ]
  }
 ],
 "metadata": {
  "kernelspec": {
   "display_name": "Python 3 (ipykernel)",
   "language": "python",
   "name": "python3"
  },
  "language_info": {
   "codemirror_mode": {
    "name": "ipython",
    "version": 3
   },
   "file_extension": ".py",
   "mimetype": "text/x-python",
   "name": "python",
   "nbconvert_exporter": "python",
   "pygments_lexer": "ipython3",
   "version": "3.9.13"
  }
 },
 "nbformat": 4,
 "nbformat_minor": 5
}
